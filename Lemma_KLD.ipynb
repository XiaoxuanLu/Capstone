{
 "cells": [
  {
   "cell_type": "code",
   "execution_count": 10,
   "metadata": {},
   "outputs": [],
   "source": [
    "\"\"\"Calculate information-theoretic measures of distributional\n",
    "similarity based on word frequencies in two texts\n",
    "\"\"\"\n",
    "\n",
    "import collections\n",
    "import math\n",
    "\n",
    "\n",
    "\n",
    "def get_counts(word_list):\n",
    "    return collections.Counter(word_list)\n",
    "\n",
    "\n",
    "def create_prob_dist(count_dict):\n",
    "    total_ct = sum(count_dict.values())\n",
    "    p = {x: ct / total_ct for x, ct in count_dict.items()}\n",
    "    return p\n",
    "\n",
    "\n",
    "def count_smoothing(freq_dist, vocabulary, alpha=1):\n",
    "    return {w: freq_dist.get(w, 0) + alpha for w in vocabulary}\n",
    "\n",
    "\n",
    "def entropy(p):\n",
    "    \"\"\"Calculate entropy H(p) for a probability distribution represented\n",
    "    as a mapping (dictionary) from word tokens to probabilities\n",
    "    \"\"\"\n",
    "    h = 0\n",
    "\n",
    "    # TODO -- Calculate entropy value in nats for probability distribution `p`\n",
    "    for x in p:\n",
    "        h -= p[x] * math.log(p[x])\n",
    "\n",
    "    return h\n",
    "\n",
    "\n",
    "def cross_entropy(p1, p2):\n",
    "    \"\"\"Calculate cross-entropy H(p1, p2) for two probability distributions\n",
    "    represented as a mapping (dictionary) from word tokens to\n",
    "    probabilities\n",
    "    \"\"\"\n",
    "    xh = 0\n",
    "\n",
    "    # TODO -- Calculate cross-entropy value H(p1, p2) in nats\n",
    "    for x in p1:\n",
    "        xh -= p1[x] * math.log(p2[x])\n",
    "\n",
    "    return xh\n",
    "\n",
    "\n",
    "def kl_divergence(p1, p2):\n",
    "    \"\"\"Calculate Kullback-Leibler divergence D_{KL}(p1||p2) for two\n",
    "    probability distributions represented as a mapping (dictionary)\n",
    "    from word tokens to probabilities\n",
    "    \"\"\"\n",
    "    kl = 0\n",
    "\n",
    "    # TODO -- Calculate KL divergence D_{KL}(p1||p2) in nats\n",
    "    kl = cross_entropy(p1, p2) - entropy(p1)\n",
    "\n",
    "    return kl\n",
    "\n",
    "def e(p):\n",
    "    l = []\n",
    "    h = 0\n",
    "    for x in p:\n",
    "        h -= p[x] * math.log(p[x])\n",
    "        l.append(h)\n",
    "    return l\n",
    "\n",
    "def c(p1, p2):\n",
    "    l = []\n",
    "    xh = 0\n",
    "    for x in p1:\n",
    "        xh -= p1[x] * math.log(p2[x])\n",
    "        l.append(xh)\n",
    "    return l\n",
    "\n",
    "\n",
    "def kl_dd(p1, p2):\n",
    "    \n",
    "    entropy = e(p1)\n",
    "    cross = c(p1, p2)\n",
    "    kl = [x - y for x, y in zip(cross, entropy)]\n",
    "\n",
    "    return kl\n",
    "\n",
    "\n"
   ]
  },
  {
   "cell_type": "code",
   "execution_count": 1,
   "metadata": {},
   "outputs": [],
   "source": [
    "with open('cc-tokens.txt') as f:\n",
    "    cc_tokens = f.read().lower().splitlines()"
   ]
  },
  {
   "cell_type": "code",
   "execution_count": 2,
   "metadata": {},
   "outputs": [],
   "source": [
    "with open('biology-tokens.txt') as f:\n",
    "    biology_tokens = f.read().lower().splitlines()"
   ]
  },
  {
   "cell_type": "code",
   "execution_count": 3,
   "metadata": {},
   "outputs": [
    {
     "name": "stdout",
     "output_type": "stream",
     "text": [
      "['in', 'spite', 'of', 'the', 'morphological', 'and', 'developmental', 'differences', 'between', 'vertebrate']\n"
     ]
    }
   ],
   "source": [
    "print(biology_tokens[:10])"
   ]
  },
  {
   "cell_type": "code",
   "execution_count": 4,
   "metadata": {},
   "outputs": [
    {
     "name": "stdout",
     "output_type": "stream",
     "text": [
      "1.3953291406940274\n",
      "1.3917604586536854\n"
     ]
    }
   ],
   "source": [
    "# biology\n",
    "ct_a = get_counts(cc_tokens)\n",
    "# print(ct_a)\n",
    "ct_b = get_counts(biology_tokens)\n",
    "# print(ct_b)\n",
    "\n",
    "vocab = set(ct_a.keys()) | set(ct_b.keys())\n",
    "ct_a = count_smoothing(ct_a, vocab)\n",
    "# print(ct_a)\n",
    "ct_b = count_smoothing(ct_b, vocab)\n",
    "\n",
    "p_a = create_prob_dist(ct_a)\n",
    "p_b = create_prob_dist(ct_b)\n",
    "\n",
    "\n",
    "kl_ab = kl_divergence(p_a, p_b)\n",
    "print(kl_ab)\n",
    "    \n",
    "kl_ba = kl_divergence(p_b, p_a)\n",
    "print(kl_ba)"
   ]
  },
  {
   "cell_type": "code",
   "execution_count": 4,
   "metadata": {},
   "outputs": [
    {
     "name": "stdout",
     "output_type": "stream",
     "text": [
      "1.4892076798817788\n",
      "1.370622024644197\n"
     ]
    }
   ],
   "source": [
    "with open('chemistry-tokens.txt') as f:\n",
    "    biology_tokens = f.read().lower().splitlines()\n",
    "    \n",
    "# chemistry\n",
    "ct_a = get_counts(cc_tokens)\n",
    "# print(ct_a)\n",
    "ct_b = get_counts(biology_tokens)\n",
    "# print(ct_b)\n",
    "\n",
    "vocab = set(ct_a.keys()) | set(ct_b.keys())\n",
    "ct_a = count_smoothing(ct_a, vocab)\n",
    "# print(ct_a)\n",
    "ct_b = count_smoothing(ct_b, vocab)\n",
    "\n",
    "p_a = create_prob_dist(ct_a)\n",
    "p_b = create_prob_dist(ct_b)\n",
    "\n",
    "\n",
    "kl_ab = kl_divergence(p_a, p_b)\n",
    "print(kl_ab)\n",
    "    \n",
    "kl_ba = kl_divergence(p_b, p_a)\n",
    "print(kl_ba)"
   ]
  },
  {
   "cell_type": "code",
   "execution_count": 5,
   "metadata": {},
   "outputs": [
    {
     "name": "stdout",
     "output_type": "stream",
     "text": [
      "1.100465612965392\n",
      "1.026490990467484\n"
     ]
    }
   ],
   "source": [
    "with open('computer-tokens.txt') as f:\n",
    "    tokens = f.read().lower().splitlines()\n",
    "    \n",
    "# computer science\n",
    "ct_a = get_counts(cc_tokens)\n",
    "# print(ct_a)\n",
    "ct_b = get_counts(tokens)\n",
    "# print(ct_b)\n",
    "\n",
    "vocab = set(ct_a.keys()) | set(ct_b.keys())\n",
    "ct_a = count_smoothing(ct_a, vocab)\n",
    "# print(ct_a)\n",
    "ct_b = count_smoothing(ct_b, vocab)\n",
    "\n",
    "p_a = create_prob_dist(ct_a)\n",
    "p_b = create_prob_dist(ct_b)\n",
    "\n",
    "\n",
    "kl_ab = kl_divergence(p_a, p_b)\n",
    "print(kl_ab)\n",
    "    \n",
    "kl_ba = kl_divergence(p_b, p_a)\n",
    "print(kl_ba)"
   ]
  },
  {
   "cell_type": "code",
   "execution_count": 3,
   "metadata": {},
   "outputs": [
    {
     "name": "stdout",
     "output_type": "stream",
     "text": [
      "0.7843515970190342\n",
      "0.6954866376363178\n"
     ]
    }
   ],
   "source": [
    "with open('economics-tokens.txt') as f:\n",
    "    tokens = f.read().lower().splitlines()\n",
    "    \n",
    "# economics\n",
    "ct_a = get_counts(cc_tokens)\n",
    "# print(ct_a)\n",
    "ct_b = get_counts(tokens)\n",
    "# print(ct_b)\n",
    "\n",
    "vocab = set(ct_a.keys()) | set(ct_b.keys())\n",
    "ct_a = count_smoothing(ct_a, vocab)\n",
    "# print(ct_a)\n",
    "ct_b = count_smoothing(ct_b, vocab)\n",
    "\n",
    "p_a = create_prob_dist(ct_a)\n",
    "p_b = create_prob_dist(ct_b)\n",
    "\n",
    "\n",
    "kl_ab = kl_divergence(p_a, p_b)\n",
    "print(kl_ab)\n",
    "    \n",
    "kl_ba = kl_divergence(p_b, p_a)\n",
    "print(kl_ba)"
   ]
  },
  {
   "cell_type": "code",
   "execution_count": 3,
   "metadata": {},
   "outputs": [
    {
     "name": "stdout",
     "output_type": "stream",
     "text": [
      "0.9704102935975527\n",
      "0.8744780093122486\n"
     ]
    }
   ],
   "source": [
    "with open('engineering-tokens.txt') as f:\n",
    "    tokens = f.read().lower().splitlines()\n",
    "    \n",
    "# engineering\n",
    "ct_a = get_counts(cc_tokens)\n",
    "# print(ct_a)\n",
    "ct_b = get_counts(tokens)\n",
    "# print(ct_b)\n",
    "\n",
    "vocab = set(ct_a.keys()) | set(ct_b.keys())\n",
    "ct_a = count_smoothing(ct_a, vocab)\n",
    "# print(ct_a)\n",
    "ct_b = count_smoothing(ct_b, vocab)\n",
    "\n",
    "p_a = create_prob_dist(ct_a)\n",
    "p_b = create_prob_dist(ct_b)\n",
    "\n",
    "\n",
    "kl_ab = kl_divergence(p_a, p_b)\n",
    "print(kl_ab)\n",
    "    \n",
    "kl_ba = kl_divergence(p_b, p_a)\n",
    "print(kl_ba)"
   ]
  },
  {
   "cell_type": "code",
   "execution_count": 10,
   "metadata": {},
   "outputs": [
    {
     "data": {
      "text/plain": [
       "1.7290288647951714e-08"
      ]
     },
     "execution_count": 10,
     "metadata": {},
     "output_type": "execute_result"
    }
   ],
   "source": [
    "p_a['gaboury']"
   ]
  },
  {
   "cell_type": "code",
   "execution_count": 4,
   "metadata": {},
   "outputs": [
    {
     "name": "stderr",
     "output_type": "stream",
     "text": [
      "IOPub data rate exceeded.\n",
      "The notebook server will temporarily stop sending output\n",
      "to the client in order to avoid crashing it.\n",
      "To change this limit, set the config variable\n",
      "`--NotebookApp.iopub_data_rate_limit`.\n",
      "\n",
      "Current values:\n",
      "NotebookApp.iopub_data_rate_limit=1000000.0 (bytes/sec)\n",
      "NotebookApp.rate_limit_window=3.0 (secs)\n",
      "\n"
     ]
    },
    {
     "name": "stdout",
     "output_type": "stream",
     "text": [
      "0.8798484126004071\n",
      "1.0094529875024048\n"
     ]
    }
   ],
   "source": [
    "with open('philosophy-tokens.txt') as f:\n",
    "    tokens = f.read().lower().splitlines()\n",
    "    \n",
    "# philosophy\n",
    "ct_a = get_counts(cc_tokens)\n",
    "# print(ct_a)\n",
    "ct_b = get_counts(tokens)\n",
    "# print(ct_b)\n",
    "\n",
    "vocab = set(ct_a.keys()) | set(ct_b.keys())\n",
    "ct_a = count_smoothing(ct_a, vocab)\n",
    "# print(ct_a)\n",
    "ct_b = count_smoothing(ct_b, vocab)\n",
    "\n",
    "p_a = create_prob_dist(ct_a)\n",
    "print(p_a)\n",
    "p_b = create_prob_dist(ct_b)\n",
    "\n",
    "\n",
    "kl_ab = kl_divergence(p_a, p_b)\n",
    "print(kl_ab)\n",
    "    \n",
    "kl_ba = kl_divergence(p_b, p_a)\n",
    "print(kl_ba)"
   ]
  },
  {
   "cell_type": "code",
   "execution_count": 5,
   "metadata": {},
   "outputs": [
    {
     "name": "stdout",
     "output_type": "stream",
     "text": [
      "0.8602824444201698\n",
      "0.8758825158417558\n"
     ]
    }
   ],
   "source": [
    "with open('psychology-tokens.txt') as f:\n",
    "    tokens = f.read().lower().splitlines()\n",
    "    \n",
    "# psychology\n",
    "ct_a = get_counts(cc_tokens)\n",
    "# print(ct_a)\n",
    "ct_b = get_counts(tokens)\n",
    "# print(ct_b)\n",
    "\n",
    "vocab = set(ct_a.keys()) | set(ct_b.keys())\n",
    "ct_a = count_smoothing(ct_a, vocab)\n",
    "# print(ct_a)\n",
    "ct_b = count_smoothing(ct_b, vocab)\n",
    "\n",
    "p_a = create_prob_dist(ct_a)\n",
    "p_b = create_prob_dist(ct_b)\n",
    "\n",
    "\n",
    "kl_ab = kl_divergence(p_a, p_b)\n",
    "print(kl_ab)\n",
    "    \n",
    "kl_ba = kl_divergence(p_b, p_a)\n",
    "print(kl_ba)"
   ]
  },
  {
   "cell_type": "code",
   "execution_count": 6,
   "metadata": {},
   "outputs": [
    {
     "name": "stdout",
     "output_type": "stream",
     "text": [
      "0.5554565950380557\n",
      "0.5205863947668457\n"
     ]
    }
   ],
   "source": [
    "with open('sociology-tokens.txt') as f:\n",
    "    tokens = f.read().lower().splitlines()\n",
    "    \n",
    "# sociology\n",
    "ct_a = get_counts(cc_tokens)\n",
    "# print(ct_a)\n",
    "ct_b = get_counts(tokens)\n",
    "# print(ct_b)\n",
    "\n",
    "vocab = set(ct_a.keys()) | set(ct_b.keys())\n",
    "ct_a = count_smoothing(ct_a, vocab)\n",
    "# print(ct_a)\n",
    "ct_b = count_smoothing(ct_b, vocab)\n",
    "\n",
    "p_a = create_prob_dist(ct_a)\n",
    "p_b = create_prob_dist(ct_b)\n",
    "\n",
    "\n",
    "kl_ab = kl_divergence(p_a, p_b)\n",
    "print(kl_ab)\n",
    "    \n",
    "kl_ba = kl_divergence(p_b, p_a)\n",
    "print(kl_ba)"
   ]
  },
  {
   "cell_type": "code",
   "execution_count": 4,
   "metadata": {},
   "outputs": [
    {
     "name": "stdout",
     "output_type": "stream",
     "text": [
      "0.7645831018661013\n",
      "1.0654439636665174\n"
     ]
    }
   ],
   "source": [
    "with open('art-tokens.txt') as f:\n",
    "    tokens = f.read().lower().splitlines()\n",
    "    \n",
    "# sociology\n",
    "ct_a = get_counts(cc_tokens)\n",
    "# print(ct_a)\n",
    "ct_b = get_counts(tokens)\n",
    "# print(ct_b)\n",
    "\n",
    "vocab = set(ct_a.keys()) | set(ct_b.keys())\n",
    "ct_a = count_smoothing(ct_a, vocab)\n",
    "# print(ct_a)\n",
    "ct_b = count_smoothing(ct_b, vocab)\n",
    "\n",
    "p_a = create_prob_dist(ct_a)\n",
    "p_b = create_prob_dist(ct_b)\n",
    "\n",
    "\n",
    "kl_ab = kl_divergence(p_a, p_b)\n",
    "print(kl_ab)\n",
    "    \n",
    "kl_ba = kl_divergence(p_b, p_a)\n",
    "print(kl_ba)"
   ]
  },
  {
   "cell_type": "code",
   "execution_count": 4,
   "metadata": {},
   "outputs": [
    {
     "name": "stdout",
     "output_type": "stream",
     "text": [
      "1.5620148386710095\n",
      "1.39688622264058\n"
     ]
    }
   ],
   "source": [
    "with open('physics-tokens.txt') as f:\n",
    "    tokens = f.read().lower().splitlines()\n",
    "    \n",
    "# sociology\n",
    "ct_a = get_counts(cc_tokens)\n",
    "# print(ct_a)\n",
    "ct_b = get_counts(tokens)\n",
    "# print(ct_b)\n",
    "\n",
    "vocab = set(ct_a.keys()) | set(ct_b.keys())\n",
    "ct_a = count_smoothing(ct_a, vocab)\n",
    "# print(ct_a)\n",
    "ct_b = count_smoothing(ct_b, vocab)\n",
    "\n",
    "p_a = create_prob_dist(ct_a)\n",
    "p_b = create_prob_dist(ct_b)\n",
    "\n",
    "\n",
    "kl_ab = kl_divergence(p_a, p_b)\n",
    "print(kl_ab)\n",
    "    \n",
    "kl_ba = kl_divergence(p_b, p_a)\n",
    "print(kl_ba)"
   ]
  },
  {
   "cell_type": "code",
   "execution_count": 1,
   "metadata": {},
   "outputs": [],
   "source": [
    "import pickle\n",
    "infile=open('cc', 'rb')\n",
    "cc_freq = pickle.load(infile)\n",
    "infile.close()\n",
    "\n",
    "infile=open('bio', 'rb')\n",
    "bio_freq = pickle.load(infile)\n",
    "infile.close()\n",
    "\n",
    "infile=open('che', 'rb')\n",
    "che_freq = pickle.load(infile)\n",
    "infile.close()\n",
    "\n",
    "infile=open('cs', 'rb')\n",
    "com_freq = pickle.load(infile)\n",
    "infile.close()\n",
    "\n",
    "infile=open('phi', 'rb')\n",
    "phy_freq = pickle.load(infile)\n",
    "infile.close()\n",
    "\n",
    "infile=open('psy', 'rb')\n",
    "psy_freq = pickle.load(infile)\n",
    "infile.close()\n",
    "\n",
    "\n",
    "infile=open('eco', 'rb')\n",
    "eco_freq = pickle.load(infile)\n",
    "infile.close()\n",
    "\n",
    "infile=open('art', 'rb')\n",
    "art_freq = pickle.load(infile)\n",
    "infile.close()\n",
    "\n",
    "infile=open('soc', 'rb')\n",
    "soc_freq = pickle.load(infile)\n",
    "infile.close()\n",
    "\n",
    "infile=open('philo', 'rb')\n",
    "phi_freq = pickle.load(infile)\n",
    "infile.close()\n",
    "\n",
    "infile=open('eng', 'rb')\n",
    "eng_freq = pickle.load(infile)\n",
    "infile.close()"
   ]
  },
  {
   "cell_type": "code",
   "execution_count": 11,
   "metadata": {},
   "outputs": [],
   "source": [
    "# philosophy\n",
    "\n",
    "vocab = set(cc_freq.keys()) | set(phi_freq.keys())\n",
    "ct_a = count_smoothing(cc_freq, vocab)\n",
    "# print(ct_a)\n",
    "ct_b = count_smoothing(phi_freq, vocab)\n",
    "\n",
    "p_a = create_prob_dist(ct_a)\n",
    "p_b = create_prob_dist(ct_b)\n",
    "\n",
    "\n",
    "kl_ab = kl_dd(p_a, p_b)\n",
    "\n",
    "    \n",
    "#kl_ba = kl_dd(p_b, p_a)\n",
    "#print(kl_ba)\n"
   ]
  },
  {
   "cell_type": "code",
   "execution_count": 27,
   "metadata": {},
   "outputs": [],
   "source": [
    "# biology\n",
    "\n",
    "vocab = set(cc_freq.keys()) | set(bio_freq.keys())\n",
    "ct_a = count_smoothing(cc_freq, vocab)\n",
    "# print(ct_a)\n",
    "ct_b = count_smoothing(bio_freq, vocab)\n",
    "\n",
    "p_a = create_prob_dist(ct_a)\n",
    "p_b = create_prob_dist(ct_b)\n",
    "\n",
    "\n",
    "kl_bio = kl_dd(p_a, p_b)\n",
    "\n",
    "    \n",
    "#kl_ba = kl_dd(p_b, p_a)\n",
    "#print(kl_ba)"
   ]
  },
  {
   "cell_type": "code",
   "execution_count": 37,
   "metadata": {},
   "outputs": [],
   "source": [
    "# computer science\n",
    "\n",
    "vocab = set(cc_freq.keys()) | set(com_freq.keys())\n",
    "ct_a = count_smoothing(cc_freq, vocab)\n",
    "# print(ct_a)\n",
    "ct_b = count_smoothing(com_freq, vocab)\n",
    "\n",
    "p_a = create_prob_dist(ct_a)\n",
    "p_b = create_prob_dist(ct_b)\n",
    "\n",
    "\n",
    "kl_cs= kl_dd(p_a, p_b)\n",
    "\n",
    "    \n",
    "#kl_ba = kl_dd(p_b, p_a)\n",
    "#print(kl_ba)"
   ]
  },
  {
   "cell_type": "code",
   "execution_count": 41,
   "metadata": {},
   "outputs": [],
   "source": [
    "# physics\n",
    "\n",
    "vocab = set(cc_freq.keys()) | set(phy_freq.keys())\n",
    "ct_a = count_smoothing(cc_freq, vocab)\n",
    "# print(ct_a)\n",
    "ct_b = count_smoothing(phy_freq, vocab)\n",
    "\n",
    "p_a = create_prob_dist(ct_a)\n",
    "p_b = create_prob_dist(ct_b)\n",
    "\n",
    "\n",
    "kl_phy= kl_dd(p_a, p_b)\n",
    "\n",
    "    \n",
    "#kl_ba = kl_dd(p_b, p_a)\n",
    "#print(kl_ba)"
   ]
  },
  {
   "cell_type": "code",
   "execution_count": 44,
   "metadata": {},
   "outputs": [],
   "source": [
    "# art\n",
    "\n",
    "vocab = set(cc_freq.keys()) | set(art_freq.keys())\n",
    "ct_a = count_smoothing(cc_freq, vocab)\n",
    "# print(ct_a)\n",
    "ct_b = count_smoothing(art_freq, vocab)\n",
    "\n",
    "p_a = create_prob_dist(ct_a)\n",
    "p_b = create_prob_dist(ct_b)\n",
    "\n",
    "\n",
    "kl_art= kl_dd(p_a, p_b)\n",
    "\n",
    "    \n",
    "#kl_ba = kl_dd(p_b, p_a)\n",
    "#print(kl_ba)"
   ]
  },
  {
   "cell_type": "code",
   "execution_count": 45,
   "metadata": {},
   "outputs": [],
   "source": [
    "# engineering\n",
    "\n",
    "vocab = set(cc_freq.keys()) | set(eng_freq.keys())\n",
    "ct_a = count_smoothing(cc_freq, vocab)\n",
    "# print(ct_a)\n",
    "ct_b = count_smoothing(eng_freq, vocab)\n",
    "\n",
    "p_a = create_prob_dist(ct_a)\n",
    "p_b = create_prob_dist(ct_b)\n",
    "\n",
    "\n",
    "kl_eng= kl_dd(p_a, p_b)\n",
    "\n",
    "    \n",
    "#kl_ba = kl_dd(p_b, p_a)\n",
    "#print(kl_ba)"
   ]
  },
  {
   "cell_type": "code",
   "execution_count": 46,
   "metadata": {},
   "outputs": [],
   "source": [
    "# psychology\n",
    "\n",
    "vocab = set(cc_freq.keys()) | set(psy_freq.keys())\n",
    "ct_a = count_smoothing(cc_freq, vocab)\n",
    "# print(ct_a)\n",
    "ct_b = count_smoothing(psy_freq, vocab)\n",
    "\n",
    "p_a = create_prob_dist(ct_a)\n",
    "p_b = create_prob_dist(ct_b)\n",
    "\n",
    "\n",
    "kl_psy= kl_dd(p_a, p_b)\n",
    "\n",
    "    \n",
    "#kl_ba = kl_dd(p_b, p_a)\n",
    "#print(kl_ba)"
   ]
  },
  {
   "cell_type": "code",
   "execution_count": 47,
   "metadata": {},
   "outputs": [],
   "source": [
    "# economics\n",
    "\n",
    "vocab = set(cc_freq.keys()) | set(eco_freq.keys())\n",
    "ct_a = count_smoothing(cc_freq, vocab)\n",
    "# print(ct_a)\n",
    "ct_b = count_smoothing(eco_freq, vocab)\n",
    "\n",
    "p_a = create_prob_dist(ct_a)\n",
    "p_b = create_prob_dist(ct_b)\n",
    "\n",
    "\n",
    "kl_eco = kl_dd(p_a, p_b)\n",
    "\n",
    "    \n",
    "#kl_ba = kl_dd(p_b, p_a)\n",
    "#print(kl_ba)"
   ]
  },
  {
   "cell_type": "code",
   "execution_count": 48,
   "metadata": {},
   "outputs": [],
   "source": [
    "# chemistry\n",
    "\n",
    "vocab = set(cc_freq.keys()) | set(che_freq.keys())\n",
    "ct_a = count_smoothing(cc_freq, vocab)\n",
    "# print(ct_a)\n",
    "ct_b = count_smoothing(che_freq, vocab)\n",
    "\n",
    "p_a = create_prob_dist(ct_a)\n",
    "p_b = create_prob_dist(ct_b)\n",
    "\n",
    "\n",
    "kl_che= kl_dd(p_a, p_b)\n",
    "\n",
    "    \n",
    "#kl_ba = kl_dd(p_b, p_a)\n",
    "#print(kl_ba)"
   ]
  },
  {
   "cell_type": "code",
   "execution_count": 49,
   "metadata": {},
   "outputs": [],
   "source": [
    "# sociology\n",
    "\n",
    "vocab = set(cc_freq.keys()) | set(soc_freq.keys())\n",
    "ct_a = count_smoothing(cc_freq, vocab)\n",
    "# print(ct_a)\n",
    "ct_b = count_smoothing(soc_freq, vocab)\n",
    "\n",
    "p_a = create_prob_dist(ct_a)\n",
    "p_b = create_prob_dist(ct_b)\n",
    "\n",
    "\n",
    "kl_soc= kl_dd(p_a, p_b)\n",
    "\n",
    "    \n",
    "#kl_ba = kl_dd(p_b, p_a)\n",
    "#print(kl_ba)"
   ]
  },
  {
   "cell_type": "code",
   "execution_count": 57,
   "metadata": {},
   "outputs": [
    {
     "name": "stderr",
     "output_type": "stream",
     "text": [
      "/opt/anaconda3/lib/python3.7/site-packages/seaborn/distributions.py:2551: FutureWarning: `distplot` is a deprecated function and will be removed in a future version. Please adapt your code to use either `displot` (a figure-level function with similar flexibility) or `histplot` (an axes-level function for histograms).\n",
      "  warnings.warn(msg, FutureWarning)\n"
     ]
    },
    {
     "data": {
      "image/png": "[encoded data removed]",
      "text/plain": [
       "<Figure size 1152x864 with 1 Axes>"
      ]
     },
     "metadata": {},
     "output_type": "display_data"
    }
   ],
   "source": [
    "# libraries & dataset\n",
    "import seaborn as sns\n",
    "import matplotlib.pyplot as plt\n",
    "# set a grey background (use sns.set_theme() if seaborn version 0.11.0 or above) \n",
    "sns.set(style=\"darkgrid\")\n",
    "\n",
    "plt.figure(figsize=(16, 12))\n",
    "\n",
    "sns.distplot(kl_ab, color=\"skyblue\", label=\"Philosophy\", kde=False)\n",
    "sns.distplot(kl_bio, color=\"olive\", label=\"Biology\",kde=False)\n",
    "sns.distplot(kl_cs, color=\"gold\", label=\"Computer Science\",kde=False)\n",
    "sns.distplot(kl_phy, color=\"teal\", label=\"Physics\",kde=False)\n",
    "sns.distplot(kl_che, color=\"lightcoral\", label=\"Chemistry\", kde=False)\n",
    "sns.distplot(kl_eng, color=\"chocolate\", label=\"Engineering\",kde=False)\n",
    "sns.distplot(kl_eco, color=\"orange\", label=\"Economics\",kde=False)\n",
    "sns.distplot(kl_soc, color=\"forestgreen\", label=\"Sociology\",kde=False)\n",
    "sns.distplot(kl_art, color=\"lightslategray\", label=\"Art\",kde=False)\n",
    "sns.distplot(kl_psy, color=\"mediumpurple\", label=\"Psychology\",kde=False)\n",
    "plt.xlabel(\"KLD\", size=10)\n",
    "plt.ylabel(\"Density\", size=10)\n",
    "plt.title(\"Distribution graph of KLD: New VS Science\")\n",
    "plt.legend(loc=2, prop={'size': 10})\n",
    "plt.savefig('dis_new_sci')"
   ]
  }
 ],
 "metadata": {
  "kernelspec": {
   "display_name": "Python 3",
   "language": "python",
   "name": "python3"
  },
  "language_info": {
   "codemirror_mode": {
    "name": "ipython",
    "version": 3
   },
   "file_extension": ".py",
   "mimetype": "text/x-python",
   "name": "python",
   "nbconvert_exporter": "python",
   "pygments_lexer": "ipython3",
   "version": "3.7.4"
  }
 },
 "nbformat": 4,
 "nbformat_minor": 2
}
