{
 "cells": [
  {
   "cell_type": "code",
   "execution_count": 21,
   "metadata": {},
   "outputs": [],
   "source": [
    "import nltk\n",
    "text = [\"i\", \"am\", \"happy\"]\n"
   ]
  },
  {
   "cell_type": "code",
   "execution_count": 2,
   "metadata": {},
   "outputs": [],
   "source": [
    "ll = nltk.pos_tag(text)"
   ]
  },
  {
   "cell_type": "code",
   "execution_count": 3,
   "metadata": {},
   "outputs": [
    {
     "data": {
      "text/plain": [
       "[('i', 'NN'), ('am', 'VBP'), ('happy', 'JJ')]"
      ]
     },
     "execution_count": 3,
     "metadata": {},
     "output_type": "execute_result"
    }
   ],
   "source": [
    "ll"
   ]
  },
  {
   "cell_type": "code",
   "execution_count": 4,
   "metadata": {},
   "outputs": [],
   "source": [
    "poss = []\n",
    "for (word, tag) in ll:\n",
    "    poss.append(tag)"
   ]
  },
  {
   "cell_type": "code",
   "execution_count": 5,
   "metadata": {},
   "outputs": [
    {
     "data": {
      "text/plain": [
       "['NN', 'VBP', 'JJ']"
      ]
     },
     "execution_count": 5,
     "metadata": {},
     "output_type": "execute_result"
    }
   ],
   "source": [
    "poss"
   ]
  },
  {
   "cell_type": "code",
   "execution_count": 1,
   "metadata": {},
   "outputs": [],
   "source": [
    "import nltk\n",
    "with open('cc-tokens.txt') as f:\n",
    "    cc_tokens = f.read().lower().splitlines()"
   ]
  },
  {
   "cell_type": "code",
   "execution_count": 2,
   "metadata": {},
   "outputs": [],
   "source": [
    "cc_tokens = cc_tokens[:5000000]"
   ]
  },
  {
   "cell_type": "code",
   "execution_count": 3,
   "metadata": {},
   "outputs": [],
   "source": [
    "pos2 = nltk.pos_tag(cc_tokens)"
   ]
  },
  {
   "cell_type": "code",
   "execution_count": 4,
   "metadata": {},
   "outputs": [],
   "source": [
    "poss = []\n",
    "for (word, tag) in pos2:\n",
    "    poss.append(tag)"
   ]
  },
  {
   "cell_type": "code",
   "execution_count": 5,
   "metadata": {},
   "outputs": [],
   "source": [
    "from nltk.util import ngrams\n",
    "trigrams=list(ngrams(poss,3))"
   ]
  },
  {
   "cell_type": "markdown",
   "metadata": {},
   "source": [
    "###### "
   ]
  },
  {
   "cell_type": "code",
   "execution_count": 6,
   "metadata": {},
   "outputs": [],
   "source": [
    "import collections\n",
    "import math\n",
    "\n",
    "\n",
    "\n",
    "def get_counts(word_list):\n",
    "    return collections.Counter(word_list)\n",
    "\n",
    "\n",
    "def create_prob_dist(count_dict):\n",
    "    total_ct = sum(count_dict.values())\n",
    "    p = {x: ct / total_ct for x, ct in count_dict.items()}\n",
    "    return p\n",
    "\n",
    "\n",
    "def count_smoothing(freq_dist, vocabulary, alpha=1):\n",
    "    return {w: freq_dist.get(w, 0) + alpha for w in vocabulary}\n",
    "\n",
    "\n",
    "def entropy(p):\n",
    "    h = 0\n",
    "    for x in p:\n",
    "        h -= p[x] * math.log(p[x])\n",
    "\n",
    "    return h\n",
    "\n",
    "\n",
    "def cross_entropy(p1, p2):\n",
    "    xh = 0\n",
    "    for x in p1:\n",
    "        xh -= p1[x] * math.log(p2[x])\n",
    "\n",
    "    return xh\n",
    "\n",
    "\n",
    "def kl_divergence(p1, p2):\n",
    "    kl = 0\n",
    "    kl = cross_entropy(p1, p2) - entropy(p1)\n",
    "\n",
    "    return kl\n",
    "\n",
    "\n",
    "\n"
   ]
  },
  {
   "cell_type": "code",
   "execution_count": 8,
   "metadata": {},
   "outputs": [
    {
     "name": "stdout",
     "output_type": "stream",
     "text": [
      "0.2820654918433485\n",
      "0.19154114869734862\n"
     ]
    }
   ],
   "source": [
    "# economics\n",
    "ct = get_counts(trigrams)\n",
    "import nltk\n",
    "with open('economics-tokens.txt') as f:\n",
    "    econo_tokens = f.read().lower().splitlines()\n",
    "pos_eco = nltk.pos_tag(econo_tokens)\n",
    "poss_eco = []\n",
    "for (word, tag) in pos_eco:\n",
    "    poss_eco.append(tag)\n",
    "from nltk.util import ngrams\n",
    "trigrams_eco=list(ngrams(poss_eco,3))\n",
    "ct_b = get_counts(trigrams_eco)\n",
    "vocab = set(ct.keys()) | set(ct_b.keys())\n",
    "ct_a = count_smoothing(ct, vocab)\n",
    "ct_b = count_smoothing(ct_b, vocab)\n",
    "p_a = create_prob_dist(ct_a)\n",
    "p_b = create_prob_dist(ct_b)\n",
    "\n",
    "kl_ab = kl_divergence(p_a, p_b)\n",
    "print(kl_ab)\n",
    "    \n",
    "kl_ba = kl_divergence(p_b, p_a)\n",
    "print(kl_ba)"
   ]
  },
  {
   "cell_type": "code",
   "execution_count": null,
   "metadata": {},
   "outputs": [],
   "source": [
    "# chemistry\n",
    "ct = get_counts(trigrams)\n",
    "import nltk\n",
    "with open('art-tokens.txt') as f:\n",
    "    econo_tokens = f.read().lower().splitlines()\n",
    "pos_eco = nltk.pos_tag(econo_tokens)\n",
    "poss_eco = []\n",
    "for (word, tag) in pos_eco:\n",
    "    poss_eco.append(tag)\n",
    "from nltk.util import ngrams\n",
    "trigrams_eco=list(ngrams(poss_eco,3))\n",
    "ct_b = get_counts(trigrams_eco)\n",
    "vocab = set(ct.keys()) | set(ct_b.keys())\n",
    "ct_a = count_smoothing(ct, vocab)\n",
    "ct_b = count_smoothing(ct_b, vocab)\n",
    "p_a = create_prob_dist(ct_a)\n",
    "p_b = create_prob_dist(ct_b)\n",
    "\n",
    "kl_ab = kl_divergence(p_a, p_b)\n",
    "print(kl_ab)\n",
    "    \n",
    "kl_ba = kl_divergence(p_b, p_a)\n",
    "print(kl_ba)"
   ]
  },
  {
   "cell_type": "code",
   "execution_count": 60,
   "metadata": {},
   "outputs": [],
   "source": [
    "# computer\n",
    "ct = get_counts(trigrams)\n",
    "import nltk\n",
    "with open('biology-tokens.txt') as f:\n",
    "    econo_tokens = f.read().lower().splitlines()\n",
    "\n"
   ]
  },
  {
   "cell_type": "code",
   "execution_count": 61,
   "metadata": {},
   "outputs": [
    {
     "data": {
      "text/plain": [
       "276729043"
      ]
     },
     "execution_count": 61,
     "metadata": {},
     "output_type": "execute_result"
    }
   ],
   "source": [
    "len(econo_tokens)"
   ]
  },
  {
   "cell_type": "code",
   "execution_count": 62,
   "metadata": {},
   "outputs": [],
   "source": [
    "econo_tokens = econo_tokens[:5000000]"
   ]
  },
  {
   "cell_type": "code",
   "execution_count": 63,
   "metadata": {},
   "outputs": [],
   "source": [
    "pos_eco = nltk.pos_tag(econo_tokens)"
   ]
  },
  {
   "cell_type": "code",
   "execution_count": 64,
   "metadata": {},
   "outputs": [],
   "source": [
    "poss_eco = []\n",
    "for (word, tag) in pos_eco:\n",
    "    poss_eco.append(tag)"
   ]
  },
  {
   "cell_type": "code",
   "execution_count": 65,
   "metadata": {},
   "outputs": [],
   "source": [
    "from nltk.util import ngrams\n",
    "trigrams_eco=list(ngrams(poss_eco,3))"
   ]
  },
  {
   "cell_type": "code",
   "execution_count": 66,
   "metadata": {},
   "outputs": [
    {
     "name": "stdout",
     "output_type": "stream",
     "text": [
      "0.33694534541039367\n",
      "0.2668384731881055\n"
     ]
    }
   ],
   "source": [
    "ct_b = get_counts(trigrams_eco)\n",
    "vocab = set(ct.keys()) | set(ct_b.keys())\n",
    "ct_a = count_smoothing(ct, vocab)\n",
    "ct_b = count_smoothing(ct_b, vocab)\n",
    "p_a = create_prob_dist(ct_a)\n",
    "p_b = create_prob_dist(ct_b)\n",
    "\n",
    "kl_ab = kl_divergence(p_a, p_b)\n",
    "print(kl_ab)\n",
    "    \n",
    "kl_ba = kl_divergence(p_b, p_a)\n",
    "print(kl_ba)"
   ]
  },
  {
   "cell_type": "code",
   "execution_count": null,
   "metadata": {},
   "outputs": [],
   "source": [
    "# engineering\n",
    "ct = get_counts(trigrams)\n",
    "import nltk\n",
    "with open('engineering-tokens.txt') as f:\n",
    "    econo_tokens = f.read().lower().splitlines()\n",
    "pos_eco = nltk.pos_tag(econo_tokens)\n",
    "poss_eco = []\n",
    "for (word, tag) in pos_eco:\n",
    "    poss_eco.append(tag)\n",
    "from nltk.util import ngrams\n",
    "trigrams_eco=list(ngrams(poss_eco,3))\n",
    "ct_b = get_counts(trigrams_eco)\n",
    "vocab = set(ct.keys()) | set(ct_b.keys())\n",
    "ct_a = count_smoothing(ct, vocab)\n",
    "ct_b = count_smoothing(ct_b, vocab)\n",
    "p_a = create_prob_dist(ct_a)\n",
    "p_b = create_prob_dist(ct_b)\n",
    "\n",
    "kl_ab = kl_divergence(p_a, p_b)\n",
    "print(kl_ab)\n",
    "    \n",
    "kl_ba = kl_divergence(p_b, p_a)\n",
    "print(kl_ba)"
   ]
  },
  {
   "cell_type": "code",
   "execution_count": null,
   "metadata": {},
   "outputs": [],
   "source": [
    "# philosophy\n",
    "ct = get_counts(trigrams)\n",
    "import nltk\n",
    "with open('philosophy-tokens.txt') as f:\n",
    "    econo_tokens = f.read().lower().splitlines()\n",
    "pos_eco = nltk.pos_tag(econo_tokens)\n",
    "poss_eco = []\n",
    "for (word, tag) in pos_eco:\n",
    "    poss_eco.append(tag)\n",
    "from nltk.util import ngrams\n",
    "trigrams_eco=list(ngrams(poss_eco,3))\n",
    "ct_b = get_counts(trigrams_eco)\n",
    "vocab = set(ct.keys()) | set(ct_b.keys())\n",
    "ct_a = count_smoothing(ct, vocab)\n",
    "ct_b = count_smoothing(ct_b, vocab)\n",
    "p_a = create_prob_dist(ct_a)\n",
    "p_b = create_prob_dist(ct_b)\n",
    "\n",
    "kl_ab = kl_divergence(p_a, p_b)\n",
    "print(kl_ab)\n",
    "    \n",
    "kl_ba = kl_divergence(p_b, p_a)\n",
    "print(kl_ba)"
   ]
  },
  {
   "cell_type": "code",
   "execution_count": null,
   "metadata": {},
   "outputs": [],
   "source": [
    "# psychology\n",
    "ct = get_counts(trigrams)\n",
    "import nltk\n",
    "with open('psychology-tokens.txt') as f:\n",
    "    econo_tokens = f.read().lower().splitlines()\n",
    "pos_eco = nltk.pos_tag(econo_tokens)\n",
    "poss_eco = []\n",
    "for (word, tag) in pos_eco:\n",
    "    poss_eco.append(tag)\n",
    "from nltk.util import ngrams\n",
    "trigrams_eco=list(ngrams(poss_eco,3))\n",
    "ct_b = get_counts(trigrams_eco)\n",
    "vocab = set(ct.keys()) | set(ct_b.keys())\n",
    "ct_a = count_smoothing(ct, vocab)\n",
    "ct_b = count_smoothing(ct_b, vocab)\n",
    "p_a = create_prob_dist(ct_a)\n",
    "p_b = create_prob_dist(ct_b)\n",
    "\n",
    "kl_ab = kl_divergence(p_a, p_b)\n",
    "print(kl_ab)\n",
    "    \n",
    "kl_ba = kl_divergence(p_b, p_a)\n",
    "print(kl_ba)"
   ]
  },
  {
   "cell_type": "code",
   "execution_count": null,
   "metadata": {},
   "outputs": [],
   "source": [
    "# sociology\n",
    "ct = get_counts(trigrams)\n",
    "import nltk\n",
    "with open('sociology-tokens.txt') as f:\n",
    "    econo_tokens = f.read().lower().splitlines()\n",
    "pos_eco = nltk.pos_tag(econo_tokens)\n",
    "poss_eco = []\n",
    "for (word, tag) in pos_eco:\n",
    "    poss_eco.append(tag)\n",
    "from nltk.util import ngrams\n",
    "trigrams_eco=list(ngrams(poss_eco,3))\n",
    "ct_b = get_counts(trigrams_eco)\n",
    "vocab = set(ct.keys()) | set(ct_b.keys())\n",
    "ct_a = count_smoothing(ct, vocab)\n",
    "ct_b = count_smoothing(ct_b, vocab)\n",
    "p_a = create_prob_dist(ct_a)\n",
    "p_b = create_prob_dist(ct_b)\n",
    "\n",
    "kl_ab = kl_divergence(p_a, p_b)\n",
    "print(kl_ab)\n",
    "    \n",
    "kl_ba = kl_divergence(p_b, p_a)\n",
    "print(kl_ba)"
   ]
  },
  {
   "cell_type": "code",
   "execution_count": null,
   "metadata": {},
   "outputs": [],
   "source": [
    "# biology\n",
    "ct = get_counts(trigrams)\n",
    "import nltk\n",
    "with open('biology-tokens.txt') as f:\n",
    "    econo_tokens = f.read().lower().splitlines()\n",
    "pos_eco = nltk.pos_tag(econo_tokens)\n",
    "poss_eco = []\n",
    "for (word, tag) in pos_eco:\n",
    "    poss_eco.append(tag)\n",
    "from nltk.util import ngrams\n",
    "trigrams_eco=list(ngrams(poss_eco,3))\n",
    "ct_b = get_counts(trigrams_eco)\n",
    "vocab = set(ct.keys()) | set(ct_b.keys())\n",
    "ct_a = count_smoothing(ct, vocab)\n",
    "ct_b = count_smoothing(ct_b, vocab)\n",
    "p_a = create_prob_dist(ct_a)\n",
    "p_b = create_prob_dist(ct_b)\n",
    "\n",
    "kl_ab = kl_divergence(p_a, p_b)\n",
    "print(kl_ab)\n",
    "    \n",
    "kl_ba = kl_divergence(p_b, p_a)\n",
    "print(kl_ba)"
   ]
  },
  {
   "cell_type": "code",
   "execution_count": 46,
   "metadata": {},
   "outputs": [],
   "source": [
    "vocab = set(ct_a.keys()) | set(ct_b.keys())"
   ]
  },
  {
   "cell_type": "code",
   "execution_count": 49,
   "metadata": {},
   "outputs": [],
   "source": [
    "ct_a = count_smoothing(ct_a, vocab)\n",
    "ct_b = count_smoothing(ct_b, vocab)"
   ]
  },
  {
   "cell_type": "code",
   "execution_count": 52,
   "metadata": {},
   "outputs": [],
   "source": [
    "p_a = create_prob_dist(ct_a)\n",
    "p_b = create_prob_dist(ct_b)\n",
    "\n"
   ]
  },
  {
   "cell_type": "code",
   "execution_count": 54,
   "metadata": {},
   "outputs": [
    {
     "name": "stdout",
     "output_type": "stream",
     "text": [
      "0.586354936662774\n",
      "0.24574599750927195\n"
     ]
    }
   ],
   "source": [
    "kl_ab = kl_divergence(p_a, p_b)\n",
    "print(kl_ab)\n",
    "    \n",
    "kl_ba = kl_divergence(p_b, p_a)\n",
    "print(kl_ba)"
   ]
  },
  {
   "cell_type": "code",
   "execution_count": null,
   "metadata": {},
   "outputs": [],
   "source": []
  }
 ],
 "metadata": {
  "kernelspec": {
   "display_name": "Python 3.7.4 ('base')",
   "language": "python",
   "name": "python3"
  },
  "language_info": {
   "codemirror_mode": {
    "name": "ipython",
    "version": 3
   },
   "file_extension": ".py",
   "mimetype": "text/x-python",
   "name": "python",
   "nbconvert_exporter": "python",
   "pygments_lexer": "ipython3",
   "version": "3.7.4"
  },
  "vscode": {
   "interpreter": {
    "hash": "40d3a090f54c6569ab1632332b64b2c03c39dcf918b08424e98f38b5ae0af88f"
   }
  }
 },
 "nbformat": 4,
 "nbformat_minor": 2
}
