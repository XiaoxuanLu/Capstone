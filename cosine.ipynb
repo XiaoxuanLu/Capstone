{
 "cells": [
  {
   "cell_type": "code",
   "execution_count": 1,
   "metadata": {},
   "outputs": [],
   "source": [
    "\n",
    "with open('cc-tokens.txt') as f:\n",
    "    cc_tokens = f.read().lower().splitlines()\n",
    "\n",
    "\n",
    "    \n"
   ]
  },
  {
   "cell_type": "code",
   "execution_count": 2,
   "metadata": {},
   "outputs": [],
   "source": [
    "cc_news=[\" \".join(t) for t in cc_tokens]"
   ]
  },
  {
   "cell_type": "code",
   "execution_count": null,
   "metadata": {},
   "outputs": [],
   "source": [
    "import pickle\n",
    "filename = 'ccn'\n",
    "outfile = open(filename, 'wb')\n",
    "\n",
    "pickle.dump(cc_news,outfile)\n",
    "outfile.close()"
   ]
  },
  {
   "cell_type": "code",
   "execution_count": 2,
   "metadata": {},
   "outputs": [],
   "source": [
    "import collections\n",
    "import math\n",
    "def get_counts(word_list):\n",
    "    return dict(collections.Counter(word_list))"
   ]
  },
  {
   "cell_type": "code",
   "execution_count": 3,
   "metadata": {},
   "outputs": [],
   "source": [
    "cc_freq = get_counts(cc_tokens)"
   ]
  },
  {
   "cell_type": "code",
   "execution_count": 4,
   "metadata": {},
   "outputs": [],
   "source": [
    "import pickle\n",
    "filename = 'cc'\n",
    "outfile = open(filename, 'wb')\n",
    "\n",
    "pickle.dump(cc_freq, outfile)\n",
    "outfile.close()"
   ]
  },
  {
   "cell_type": "code",
   "execution_count": 4,
   "metadata": {},
   "outputs": [
    {
     "data": {
      "text/plain": [
       "1241409"
      ]
     },
     "execution_count": 4,
     "metadata": {},
     "output_type": "execute_result"
    }
   ],
   "source": [
    "len(cc_freq)"
   ]
  },
  {
   "cell_type": "code",
   "execution_count": 3,
   "metadata": {},
   "outputs": [],
   "source": [
    "with open('art-tokens.txt') as f:\n",
    "    art_tokens = f.read().lower().splitlines()\n"
   ]
  },
  {
   "cell_type": "code",
   "execution_count": 62,
   "metadata": {},
   "outputs": [],
   "source": [
    "import pickle\n",
    "filename = 'art'\n",
    "outfile = open(filename, 'wb')\n",
    "\n",
    "pickle.dump(art_freq, outfile)\n",
    "outfile.close()"
   ]
  },
  {
   "cell_type": "code",
   "execution_count": 65,
   "metadata": {},
   "outputs": [],
   "source": [
    "def dotProduct(D1, D2): \n",
    "    Sum = 0.0\n",
    "      \n",
    "    for key in D1:\n",
    "          \n",
    "        if key in D2:\n",
    "            Sum += (D1[key] * D2[key])\n",
    "              \n",
    "    return Sum\n",
    "  \n",
    "# returns the angle in radians \n",
    "# between document vectors\n",
    "def vector_angle(D1, D2): \n",
    "    numerator = dotProduct(D1, D2)\n",
    "    denominator = math.sqrt(dotProduct(D1, D1)*dotProduct(D2, D2))\n",
    "      \n",
    "    return math.acos(numerator / denominator)"
   ]
  },
  {
   "cell_type": "code",
   "execution_count": null,
   "metadata": {},
   "outputs": [],
   "source": [
    "# art\n",
    "vector_angle(cc_freq, art_freq)"
   ]
  },
  {
   "cell_type": "code",
   "execution_count": 24,
   "metadata": {},
   "outputs": [],
   "source": [
    "with open('sociology-tokens.txt') as f:\n",
    "    soc_tokens = f.read().lower().splitlines()\n",
    "\n",
    "import pickle\n",
    "filename = 'soct'\n",
    "outfile = open(filename, 'wb')\n",
    "\n",
    "pickle.dump(soc_tokens, outfile)\n",
    "outfile.close()"
   ]
  },
  {
   "cell_type": "code",
   "execution_count": 26,
   "metadata": {},
   "outputs": [],
   "source": [
    "soc_freq = get_counts(soc_tokens)"
   ]
  },
  {
   "cell_type": "code",
   "execution_count": 63,
   "metadata": {},
   "outputs": [],
   "source": [
    "import pickle\n",
    "filename = 'soc'\n",
    "outfile = open(filename, 'wb')\n",
    "\n",
    "pickle.dump(soc_freq, outfile)\n",
    "outfile.close()"
   ]
  },
  {
   "cell_type": "code",
   "execution_count": null,
   "metadata": {},
   "outputs": [
    {
     "data": {
      "text/plain": [
       "0.2659495821070176"
      ]
     },
     "execution_count": 15,
     "metadata": {},
     "output_type": "execute_result"
    }
   ],
   "source": [
    "# sociology\n",
    "vector_angle(cc_freq, soc_freq)"
   ]
  },
  {
   "cell_type": "code",
   "execution_count": 1,
   "metadata": {},
   "outputs": [],
   "source": [
    "with open('biology-tokens.txt') as f:\n",
    "    bio_tokens = f.read().lower().splitlines()\n",
    "\n",
    "import pickle\n",
    "filename = 'biot'\n",
    "outfile = open(filename, 'wb')\n",
    "\n",
    "pickle.dump(bio_tokens, outfile)\n",
    "outfile.close()"
   ]
  },
  {
   "cell_type": "code",
   "execution_count": 4,
   "metadata": {},
   "outputs": [],
   "source": [
    "bio_freq = get_counts(bio_tokens)"
   ]
  },
  {
   "cell_type": "code",
   "execution_count": 5,
   "metadata": {},
   "outputs": [],
   "source": [
    "import pickle\n",
    "filename = 'bio'\n",
    "outfile = open(filename, 'wb')\n",
    "\n",
    "pickle.dump(bio_freq, outfile)\n",
    "outfile.close()"
   ]
  },
  {
   "cell_type": "code",
   "execution_count": null,
   "metadata": {},
   "outputs": [
    {
     "data": {
      "text/plain": [
       "0.3751197247892903"
      ]
     },
     "execution_count": 18,
     "metadata": {},
     "output_type": "execute_result"
    }
   ],
   "source": [
    "# biology\n",
    "vector_angle(cc_freq, bio_freq)"
   ]
  },
  {
   "cell_type": "code",
   "execution_count": 5,
   "metadata": {},
   "outputs": [],
   "source": [
    "with open('chemistry-tokens.txt') as f:\n",
    "    chemistry_tokens = f.read().lower().splitlines()\n",
    "\n",
    "import pickle\n",
    "filename = 'chet'\n",
    "outfile = open(filename, 'wb')\n",
    "\n",
    "pickle.dump(chemistry_tokens, outfile)\n",
    "outfile.close()"
   ]
  },
  {
   "cell_type": "code",
   "execution_count": 6,
   "metadata": {},
   "outputs": [],
   "source": [
    "che_freq = get_counts(chemistry_tokens)"
   ]
  },
  {
   "cell_type": "code",
   "execution_count": 10,
   "metadata": {},
   "outputs": [],
   "source": [
    "import pickle\n",
    "filename = 'che'\n",
    "outfile = open(filename, 'wb')\n",
    "\n",
    "pickle.dump(che_freq, outfile)\n",
    "outfile.close()"
   ]
  },
  {
   "cell_type": "code",
   "execution_count": null,
   "metadata": {},
   "outputs": [
    {
     "data": {
      "text/plain": [
       "0.3599422122418589"
      ]
     },
     "execution_count": 21,
     "metadata": {},
     "output_type": "execute_result"
    }
   ],
   "source": [
    "# chemistry\n",
    "vector_angle(cc_freq, che_freq)"
   ]
  },
  {
   "cell_type": "code",
   "execution_count": 7,
   "metadata": {},
   "outputs": [],
   "source": [
    "with open('computer-tokens.txt') as f:\n",
    "    com_tokens = f.read().lower().splitlines()\n",
    "\n",
    "import pickle\n",
    "filename = 'cst'\n",
    "outfile = open(filename, 'wb')\n",
    "\n",
    "pickle.dump(com_tokens, outfile)\n",
    "outfile.close()"
   ]
  },
  {
   "cell_type": "code",
   "execution_count": 8,
   "metadata": {},
   "outputs": [],
   "source": [
    "com_freq = get_counts(com_tokens)"
   ]
  },
  {
   "cell_type": "code",
   "execution_count": 9,
   "metadata": {},
   "outputs": [],
   "source": [
    "import pickle\n",
    "filename = 'cs'\n",
    "outfile = open(filename, 'wb')\n",
    "\n",
    "pickle.dump(com_freq, outfile)\n",
    "outfile.close()"
   ]
  },
  {
   "cell_type": "code",
   "execution_count": 66,
   "metadata": {},
   "outputs": [
    {
     "data": {
      "text/plain": [
       "0.32093218987007893"
      ]
     },
     "execution_count": 66,
     "metadata": {},
     "output_type": "execute_result"
    }
   ],
   "source": [
    "# computer science\n",
    "vector_angle(cc_freq, com_freq)"
   ]
  },
  {
   "cell_type": "code",
   "execution_count": 2,
   "metadata": {},
   "outputs": [],
   "source": [
    "with open('physics-tokens.txt') as f:\n",
    "    phy_tokens = f.read().lower().splitlines()\n",
    "\n",
    "import pickle\n",
    "filename = 'phyt'\n",
    "outfile = open(filename, 'wb')\n",
    "\n",
    "pickle.dump(phy_tokens, outfile)\n",
    "outfile.close()"
   ]
  },
  {
   "cell_type": "code",
   "execution_count": 3,
   "metadata": {},
   "outputs": [],
   "source": [
    "phy_freq = get_counts(phy_tokens)"
   ]
  },
  {
   "cell_type": "code",
   "execution_count": 4,
   "metadata": {},
   "outputs": [],
   "source": [
    "import pickle\n",
    "filename = 'phi'\n",
    "outfile = open(filename, 'wb')\n",
    "\n",
    "pickle.dump(phy_freq, outfile)\n",
    "outfile.close()"
   ]
  },
  {
   "cell_type": "code",
   "execution_count": null,
   "metadata": {},
   "outputs": [
    {
     "data": {
      "text/plain": [
       "0.3790255891378208"
      ]
     },
     "execution_count": 10,
     "metadata": {},
     "output_type": "execute_result"
    }
   ],
   "source": [
    "# physics\n",
    "vector_angle(cc_freq, phy_freq)"
   ]
  },
  {
   "cell_type": "code",
   "execution_count": 27,
   "metadata": {},
   "outputs": [],
   "source": [
    "with open('economics-tokens.txt') as f:\n",
    "    eco_tokens = f.read().lower().splitlines()\n",
    "\n",
    "import pickle\n",
    "filename = 'ecot'\n",
    "outfile = open(filename, 'wb')\n",
    "\n",
    "pickle.dump(eco_tokens, outfile)\n",
    "outfile.close()"
   ]
  },
  {
   "cell_type": "code",
   "execution_count": 28,
   "metadata": {},
   "outputs": [],
   "source": [
    "eco_freq = get_counts(eco_tokens)"
   ]
  },
  {
   "cell_type": "code",
   "execution_count": 67,
   "metadata": {},
   "outputs": [],
   "source": [
    "import pickle\n",
    "filename = 'eco'\n",
    "outfile = open(filename, 'wb')\n",
    "\n",
    "pickle.dump(eco_freq, outfile)\n",
    "outfile.close()\n"
   ]
  },
  {
   "cell_type": "code",
   "execution_count": null,
   "metadata": {},
   "outputs": [
    {
     "data": {
      "text/plain": [
       "0.28826975706797786"
      ]
     },
     "execution_count": 13,
     "metadata": {},
     "output_type": "execute_result"
    }
   ],
   "source": [
    "# economics\n",
    "vector_angle(cc_freq, eco_freq)"
   ]
  },
  {
   "cell_type": "code",
   "execution_count": 29,
   "metadata": {},
   "outputs": [],
   "source": [
    "with open('engineering-tokens.txt') as f:\n",
    "    eng_tokens = f.read().lower().splitlines()\n",
    "\n",
    "import pickle\n",
    "filename = 'engt'\n",
    "outfile = open(filename, 'wb')\n",
    "\n",
    "pickle.dump(eng_tokens, outfile)\n",
    "outfile.close()"
   ]
  },
  {
   "cell_type": "code",
   "execution_count": 31,
   "metadata": {},
   "outputs": [],
   "source": [
    "eng_freq = get_counts(eng_tokens)"
   ]
  },
  {
   "cell_type": "code",
   "execution_count": 68,
   "metadata": {},
   "outputs": [],
   "source": [
    "import pickle\n",
    "filename = 'eng'\n",
    "outfile = open(filename, 'wb')\n",
    "\n",
    "pickle.dump(eng_freq, outfile)\n",
    "outfile.close()"
   ]
  },
  {
   "cell_type": "code",
   "execution_count": null,
   "metadata": {},
   "outputs": [
    {
     "data": {
      "text/plain": [
       "0.3237714795280496"
      ]
     },
     "execution_count": 16,
     "metadata": {},
     "output_type": "execute_result"
    }
   ],
   "source": [
    "# engineering\n",
    "vector_angle(cc_freq, eng_freq)"
   ]
  },
  {
   "cell_type": "code",
   "execution_count": 32,
   "metadata": {},
   "outputs": [],
   "source": [
    "with open('philosophy-tokens.txt') as f:\n",
    "    phi_tokens = f.read().lower().splitlines()\n",
    "\n",
    "import pickle\n",
    "filename = 'phit'\n",
    "outfile = open(filename, 'wb')\n",
    "\n",
    "pickle.dump(phi_tokens, outfile)\n",
    "outfile.close()"
   ]
  },
  {
   "cell_type": "code",
   "execution_count": 53,
   "metadata": {},
   "outputs": [],
   "source": [
    "phi_freq = get_counts(phi_tokens)"
   ]
  },
  {
   "cell_type": "code",
   "execution_count": 69,
   "metadata": {},
   "outputs": [],
   "source": [
    "import pickle\n",
    "filename = 'philo'\n",
    "outfile = open(filename, 'wb')\n",
    "\n",
    "pickle.dump(phi_freq, outfile)\n",
    "outfile.close()"
   ]
  },
  {
   "cell_type": "code",
   "execution_count": null,
   "metadata": {},
   "outputs": [
    {
     "data": {
      "text/plain": [
       "116493"
      ]
     },
     "execution_count": 8,
     "metadata": {},
     "output_type": "execute_result"
    }
   ],
   "source": [
    "len(phi_freq)"
   ]
  },
  {
   "cell_type": "code",
   "execution_count": null,
   "metadata": {},
   "outputs": [
    {
     "data": {
      "text/plain": [
       "0.29920019433984846"
      ]
     },
     "execution_count": 19,
     "metadata": {},
     "output_type": "execute_result"
    }
   ],
   "source": [
    "# philosophy\n",
    "vector_angle(cc_freq, phi_freq)"
   ]
  },
  {
   "cell_type": "code",
   "execution_count": 11,
   "metadata": {},
   "outputs": [],
   "source": [
    "with open('psychology-tokens.txt') as f:\n",
    "    psy_tokens = f.read().lower().splitlines()\n",
    "\n",
    "import pickle\n",
    "filename = 'psyt'\n",
    "outfile = open(filename, 'wb')\n",
    "\n",
    "pickle.dump(psy_tokens, outfile)\n",
    "outfile.close()\n",
    "    "
   ]
  },
  {
   "cell_type": "code",
   "execution_count": 12,
   "metadata": {},
   "outputs": [],
   "source": [
    "psy_freq = get_counts(psy_tokens)"
   ]
  },
  {
   "cell_type": "code",
   "execution_count": 13,
   "metadata": {},
   "outputs": [],
   "source": [
    "import pickle\n",
    "filename = 'psy'\n",
    "outfile = open(filename, 'wb')\n",
    "\n",
    "pickle.dump(psy_freq, outfile)\n",
    "outfile.close()"
   ]
  },
  {
   "cell_type": "code",
   "execution_count": null,
   "metadata": {},
   "outputs": [
    {
     "data": {
      "text/plain": [
       "0.29320691968114554"
      ]
     },
     "execution_count": 22,
     "metadata": {},
     "output_type": "execute_result"
    }
   ],
   "source": [
    "# psychology\n",
    "vector_angle(cc_freq, psy_freq)"
   ]
  },
  {
   "cell_type": "code",
   "execution_count": 1,
   "metadata": {},
   "outputs": [],
   "source": [
    "import pickle\n",
    "infile=open('cc', 'rb')\n",
    "cc_freq = pickle.load(infile)\n",
    "infile.close()"
   ]
  },
  {
   "cell_type": "code",
   "execution_count": 2,
   "metadata": {},
   "outputs": [],
   "source": [
    "infile=open('bio', 'rb')\n",
    "bio_freq = pickle.load(infile)\n",
    "infile.close()"
   ]
  },
  {
   "cell_type": "code",
   "execution_count": 3,
   "metadata": {},
   "outputs": [],
   "source": [
    "infile=open('che', 'rb')\n",
    "che_freq = pickle.load(infile)\n",
    "infile.close()"
   ]
  },
  {
   "cell_type": "code",
   "execution_count": 4,
   "metadata": {},
   "outputs": [],
   "source": [
    "infile=open('cs', 'rb')\n",
    "com_freq = pickle.load(infile)\n",
    "infile.close()"
   ]
  },
  {
   "cell_type": "code",
   "execution_count": 5,
   "metadata": {},
   "outputs": [],
   "source": [
    "infile=open('phi', 'rb')\n",
    "phy_freq = pickle.load(infile)\n",
    "infile.close()"
   ]
  },
  {
   "cell_type": "code",
   "execution_count": 6,
   "metadata": {},
   "outputs": [],
   "source": [
    "infile=open('psy', 'rb')\n",
    "psy_freq = pickle.load(infile)\n",
    "infile.close()"
   ]
  },
  {
   "cell_type": "code",
   "execution_count": 7,
   "metadata": {},
   "outputs": [],
   "source": [
    "infile=open('eco', 'rb')\n",
    "eco_freq = pickle.load(infile)\n",
    "infile.close()"
   ]
  },
  {
   "cell_type": "code",
   "execution_count": 8,
   "metadata": {},
   "outputs": [],
   "source": [
    "infile=open('art', 'rb')\n",
    "art_freq = pickle.load(infile)\n",
    "infile.close()"
   ]
  },
  {
   "cell_type": "code",
   "execution_count": 9,
   "metadata": {},
   "outputs": [],
   "source": [
    "infile=open('soc', 'rb')\n",
    "soc_freq = pickle.load(infile)\n",
    "infile.close()"
   ]
  },
  {
   "cell_type": "code",
   "execution_count": 10,
   "metadata": {},
   "outputs": [],
   "source": [
    "infile=open('philo', 'rb')\n",
    "phi_freq = pickle.load(infile)\n",
    "infile.close()"
   ]
  },
  {
   "cell_type": "code",
   "execution_count": 11,
   "metadata": {},
   "outputs": [],
   "source": [
    "infile=open('eng', 'rb')\n",
    "eng_freq = pickle.load(infile)\n",
    "infile.close()"
   ]
  },
  {
   "cell_type": "markdown",
   "metadata": {},
   "source": [
    "### Count similarity"
   ]
  },
  {
   "cell_type": "code",
   "execution_count": 16,
   "metadata": {},
   "outputs": [],
   "source": [
    "\n",
    "cc = [[key] * cc_freq[key] for key in cc_freq]\n",
    "\n",
    " "
   ]
  },
  {
   "cell_type": "code",
   "execution_count": 17,
   "metadata": {},
   "outputs": [],
   "source": [
    "cc = [x for l in cc for x in l]"
   ]
  },
  {
   "cell_type": "code",
   "execution_count": 18,
   "metadata": {},
   "outputs": [],
   "source": [
    "cc = ' '.join(cc)"
   ]
  },
  {
   "cell_type": "code",
   "execution_count": 34,
   "metadata": {},
   "outputs": [],
   "source": [
    "art = [[key] * art_freq[key] for key in art_freq]\n",
    "art = [x for l in art for x in l]\n",
    "art = ' '.join(art)"
   ]
  },
  {
   "cell_type": "code",
   "execution_count": 14,
   "metadata": {},
   "outputs": [],
   "source": [
    "import pandas as pd\n",
    "from sklearn.feature_extraction.text import TfidfVectorizer, CountVectorizer\n",
    "from sklearn.metrics.pairwise import cosine_similarity\n",
    "from scipy.spatial.distance import cosine\n",
    "\n",
    "cc = pd.Series(cc_freq)\n",
    "art = pd.Series(art_freq)\n",
    "\n",
    "\n",
    "\n"
   ]
  },
  {
   "cell_type": "code",
   "execution_count": 28,
   "metadata": {},
   "outputs": [
    {
     "name": "stdout",
     "output_type": "stream",
     "text": [
      "[==================================================] 100.0% 66.0/66.0MB downloaded\n"
     ]
    }
   ],
   "source": [
    "# biology\n",
    "import gensim.downloader as api\n",
    "model = api.load(\"glove-wiki-gigaword-50\")"
   ]
  },
  {
   "cell_type": "code",
   "execution_count": 25,
   "metadata": {},
   "outputs": [
    {
     "data": {
      "text/plain": [
       "<1x883710 sparse matrix of type '<class 'numpy.int64'>'\n",
       "\twith 883710 stored elements in Compressed Sparse Row format>"
      ]
     },
     "execution_count": 25,
     "metadata": {},
     "output_type": "execute_result"
    }
   ],
   "source": [
    "\n",
    "vectorizer.fit_transform([cc])\n"
   ]
  },
  {
   "cell_type": "code",
   "execution_count": 1,
   "metadata": {},
   "outputs": [],
   "source": [
    "tfidf_text1, tfidf_text2 = vectorizer.transform([list_text[0]]), vectorizer.transform([list_text[1]])"
   ]
  },
  {
   "cell_type": "code",
   "execution_count": 2,
   "metadata": {},
   "outputs": [],
   "source": [
    " # computes the cosine similarity\n",
    " cs_score = cosine_similarity(tfidf_text1, tfidf_text2)\n",
    "    "
   ]
  },
  {
   "cell_type": "code",
   "execution_count": 3,
   "metadata": {},
   "outputs": [],
   "source": [
    "# cs_score"
   ]
  },
  {
   "cell_type": "code",
   "execution_count": 4,
   "metadata": {},
   "outputs": [],
   "source": [
    "# art\n",
    "# print(np.round(cs_score[0][0],2)) "
   ]
  },
  {
   "cell_type": "markdown",
   "metadata": {},
   "source": [
    "### Plot distribution graph"
   ]
  },
  {
   "cell_type": "code",
   "execution_count": 68,
   "metadata": {},
   "outputs": [],
   "source": [
    "phi = []\n",
    "for e in phi_freq:\n",
    "    phi.append(phi_freq[e])"
   ]
  },
  {
   "cell_type": "code",
   "execution_count": 69,
   "metadata": {},
   "outputs": [],
   "source": [
    "phi.sort()"
   ]
  },
  {
   "cell_type": "code",
   "execution_count": 70,
   "metadata": {},
   "outputs": [],
   "source": [
    "phi=phi[-1000:]"
   ]
  },
  {
   "cell_type": "code",
   "execution_count": 71,
   "metadata": {},
   "outputs": [
    {
     "data": {
      "text/plain": [
       "317415"
      ]
     },
     "execution_count": 71,
     "metadata": {},
     "output_type": "execute_result"
    }
   ],
   "source": [
    "phi[-1]"
   ]
  },
  {
   "cell_type": "code",
   "execution_count": 72,
   "metadata": {},
   "outputs": [],
   "source": [
    "import random\n",
    "soc = []\n",
    "for e in soc_freq:\n",
    "    soc.append(soc_freq[e])\n",
    "soc.sort()\n",
    "soc = soc[-1000:]\n",
    "random.shuffle(soc)\n"
   ]
  },
  {
   "cell_type": "code",
   "execution_count": 73,
   "metadata": {},
   "outputs": [],
   "source": [
    "bio = []\n",
    "for e in bio_freq:\n",
    "    bio.append(bio_freq[e])\n",
    "bio.sort()\n",
    "bio = bio[-1000:]\n",
    "random.shuffle(bio)"
   ]
  },
  {
   "cell_type": "code",
   "execution_count": 74,
   "metadata": {},
   "outputs": [],
   "source": [
    "eng = []\n",
    "for e in eng_freq:\n",
    "    eng.append(eng_freq[e])\n",
    "eng.sort()\n",
    "eng = eng[-1000:]\n",
    "random.shuffle(eng)"
   ]
  },
  {
   "cell_type": "code",
   "execution_count": 75,
   "metadata": {},
   "outputs": [],
   "source": [
    "che = []\n",
    "for e in che_freq:\n",
    "    che.append(che_freq[e])\n",
    "che.sort()\n",
    "che = che[-1000:]\n",
    "random.shuffle(che)"
   ]
  },
  {
   "cell_type": "code",
   "execution_count": 76,
   "metadata": {},
   "outputs": [],
   "source": [
    "cc = []\n",
    "for e in cc_freq:\n",
    "    cc.append(cc_freq[e])\n",
    "cc.sort()\n",
    "cc = cc[-1000:]\n"
   ]
  },
  {
   "cell_type": "code",
   "execution_count": 77,
   "metadata": {},
   "outputs": [],
   "source": [
    "cs = []\n",
    "for e in com_freq:\n",
    "    cs.append(com_freq[e])\n",
    "cs.sort()\n",
    "cs = cs[-1000:]\n"
   ]
  },
  {
   "cell_type": "code",
   "execution_count": 78,
   "metadata": {},
   "outputs": [],
   "source": [
    "psy = []\n",
    "for e in psy_freq:\n",
    "    psy.append(psy_freq[e])\n",
    "psy.sort()\n",
    "psy = psy[-1000:]\n"
   ]
  },
  {
   "cell_type": "code",
   "execution_count": 79,
   "metadata": {},
   "outputs": [],
   "source": [
    "art = []\n",
    "for e in art_freq:\n",
    "    art.append(art_freq[e])\n",
    "art.sort()\n",
    "art = art[-1000:]\n"
   ]
  },
  {
   "cell_type": "code",
   "execution_count": 80,
   "metadata": {},
   "outputs": [],
   "source": [
    "eco = []\n",
    "for e in eco_freq:\n",
    "    eco.append(eco_freq[e])\n",
    "eco.sort()\n",
    "eco = eco[-1000:]\n"
   ]
  },
  {
   "cell_type": "code",
   "execution_count": 81,
   "metadata": {},
   "outputs": [],
   "source": [
    "phy = []\n",
    "for e in phy_freq:\n",
    "    phy.append(phy_freq[e])\n",
    "phy.sort()\n",
    "phy = phy[-1000:]"
   ]
  },
  {
   "cell_type": "markdown",
   "metadata": {},
   "source": [
    "### Plot density graph"
   ]
  },
  {
   "cell_type": "code",
   "execution_count": 84,
   "metadata": {},
   "outputs": [
    {
     "data": {
      "image/png": "[encoded data removed]",
      "text/plain": [
       "<Figure size 576x432 with 1 Axes>"
      ]
     },
     "metadata": {
      "needs_background": "light"
     },
     "output_type": "display_data"
    }
   ],
   "source": [
    "import matplotlib.pyplot as plt\n",
    "plt.figure(figsize=(8,6))\n",
    "plt.hist(phi,bins=300, alpha=0.7,label='philosophy', histtype='bar', color='steelblue', edgecolor='none')\n",
    "plt.hist(soc,bins=300,alpha=0.7,label = 'sociology',histtype='bar', color='red', edgecolor='none')\n",
    "plt.hist(eng,bins=300, alpha=0.7,label='engineering',histtype='bar', color='green', edgecolor='none')\n",
    "plt.hist(bio,bins=300, alpha=0.7, label='biology',histtype='bar', color='gray', edgecolor='none')\n",
    "plt.hist(che,bins=300,alpha=0.7, label='chemistry',histtype='bar', color='pink', edgecolor='none')\n",
    "plt.hist(eco,bins=300,alpha=0.7, label='economics',histtype='bar', color='orange', edgecolor='none')\n",
    "plt.hist(cs,bins=300, alpha=0.7, label='cs',histtype='bar', color='olive', edgecolor='none')\n",
    "plt.hist(art,bins=300, alpha=0.7, label='art',histtype='bar', color='darkslategray', edgecolor='none')\n",
    "plt.hist(phy,bins=300, alpha=0.7, label='physics',histtype='bar', color='orchid', edgecolor='none')\n",
    "plt.hist(psy,bins=300,alpha=0.7, label='psychology',histtype='bar', color='purple', edgecolor='none')\n",
    "plt.hist(cc,bins=300, alpha=0.7, label='news',histtype='bar', color='brown', edgecolor='none')\n",
    "plt.legend(loc='upper right')\n",
    "\n",
    "plt.xlim(0, 600000)\n",
    "\n",
    "\n",
    "plt.xlabel(\"Rank of word\", size=14)\n",
    "plt.ylabel(\"Number of occurences\", size=14)\n",
    "plt.title(\"Word Frequencies for all datasets\")\n",
    "plt.legend(loc='upper right')\n",
    "plt.savefig(\"dist_all.png\")\n"
   ]
  },
  {
   "cell_type": "code",
   "execution_count": 55,
   "metadata": {},
   "outputs": [
    {
     "data": {
      "image/png": "[encoded data removed]",
      "text/plain": [
       "<Figure size 576x432 with 1 Axes>"
      ]
     },
     "metadata": {
      "needs_background": "light"
     },
     "output_type": "display_data"
    }
   ],
   "source": [
    "import matplotlib.pyplot as plt\n",
    "plt.figure(figsize=(8,6))\n",
    "plt.hist(phi,bins=100, density=True, alpha=0.7,label='philosophy', histtype='bar', color='steelblue', edgecolor='none')\n",
    "plt.xlim(3000, 50000)\n",
    "plt.ticklabel_format(style='plain')\n",
    "plt.savefig('dis_philo')"
   ]
  },
  {
   "cell_type": "code",
   "execution_count": 49,
   "metadata": {},
   "outputs": [
    {
     "data": {
      "image/png": "[encoded data removed]",
      "text/plain": [
       "<Figure size 576x432 with 1 Axes>"
      ]
     },
     "metadata": {
      "needs_background": "light"
     },
     "output_type": "display_data"
    }
   ],
   "source": [
    "import matplotlib.pyplot as plt\n",
    "plt.figure(figsize=(8,6))\n",
    "plt.hist(soc,bins=300, density=True, alpha=0.7,label = 'sociology',histtype='bar', color='red', edgecolor='none')\n",
    "plt.xlim(25000,94000)\n",
    "plt.ticklabel_format(style='plain')\n",
    "plt.savefig('dis_soc')"
   ]
  },
  {
   "cell_type": "code",
   "execution_count": 57,
   "metadata": {},
   "outputs": [
    {
     "data": {
      "image/png": "[encoded data removed]",
      "text/plain": [
       "<Figure size 576x432 with 1 Axes>"
      ]
     },
     "metadata": {
      "needs_background": "light"
     },
     "output_type": "display_data"
    }
   ],
   "source": [
    "import matplotlib.pyplot as plt\n",
    "plt.figure(figsize=(8,6))\n",
    "plt.hist(eng,bins=300, density=True, alpha=0.7,label='engineering',histtype='bar', color='green', edgecolor='none')\n",
    "plt.xlim(40000, 240000)\n",
    "plt.ticklabel_format(style='plain')\n",
    "plt.savefig('dis_eng')"
   ]
  },
  {
   "cell_type": "code",
   "execution_count": 65,
   "metadata": {},
   "outputs": [
    {
     "data": {
      "image/png": "[encoded data removed]",
      "text/plain": [
       "<Figure size 576x432 with 1 Axes>"
      ]
     },
     "metadata": {
      "needs_background": "light"
     },
     "output_type": "display_data"
    }
   ],
   "source": [
    "import matplotlib.pyplot as plt\n",
    "plt.figure(figsize=(8,6))\n",
    "plt.hist(bio,bins=400,density=True, alpha=0.7, label='biology',histtype='bar', color='gray', edgecolor='none')\n",
    "plt.xlim(250000, 780000)\n",
    "plt.ticklabel_format(style='plain')\n",
    "plt.savefig('dis_bio')"
   ]
  },
  {
   "cell_type": "code",
   "execution_count": 81,
   "metadata": {},
   "outputs": [
    {
     "data": {
      "image/png": "[encoded data removed]",
      "text/plain": [
       "<Figure size 576x432 with 1 Axes>"
      ]
     },
     "metadata": {
      "needs_background": "light"
     },
     "output_type": "display_data"
    }
   ],
   "source": [
    "\n",
    "\n",
    "import matplotlib.pyplot as plt\n",
    "plt.figure(figsize=(8,6))\n",
    "plt.hist(che,bins=300,density=True, alpha=0.7, label='chemistry',histtype='bar', color='pink', edgecolor='none')\n",
    "plt.xlim(70000, 250000)\n",
    "plt.ticklabel_format(style='plain')\n",
    "plt.savefig('dis_che')"
   ]
  },
  {
   "cell_type": "code",
   "execution_count": 83,
   "metadata": {},
   "outputs": [
    {
     "data": {
      "image/png": "[encoded data removed]",
      "text/plain": [
       "<Figure size 576x432 with 1 Axes>"
      ]
     },
     "metadata": {
      "needs_background": "light"
     },
     "output_type": "display_data"
    }
   ],
   "source": [
    "\n",
    "\n",
    "import matplotlib.pyplot as plt\n",
    "plt.figure(figsize=(8,6))\n",
    "plt.hist(eco,bins=300,density=True, alpha=0.7, label='economics',histtype='bar', color='orange', edgecolor='none')\n",
    "plt.xlim(50000, 160000)\n",
    "plt.ticklabel_format(style='plain')\n",
    "plt.savefig('dis_eco')\n"
   ]
  },
  {
   "cell_type": "code",
   "execution_count": 93,
   "metadata": {},
   "outputs": [
    {
     "data": {
      "image/png": "[encoded data removed]",
      "text/plain": [
       "<Figure size 576x432 with 1 Axes>"
      ]
     },
     "metadata": {
      "needs_background": "light"
     },
     "output_type": "display_data"
    }
   ],
   "source": [
    "import matplotlib.pyplot as plt\n",
    "plt.figure(figsize=(8,6))\n",
    "plt.hist(cs,bins=300,density=True, alpha=0.7, label='cs',histtype='bar', color='olive', edgecolor='none')\n",
    "plt.xlim(200000, 900000)\n",
    "plt.ticklabel_format(style='plain')\n",
    "plt.savefig('dis_cs')\n"
   ]
  },
  {
   "cell_type": "code",
   "execution_count": 98,
   "metadata": {},
   "outputs": [
    {
     "data": {
      "image/png": "[encoded data removed]",
      "text/plain": [
       "<Figure size 576x432 with 1 Axes>"
      ]
     },
     "metadata": {
      "needs_background": "light"
     },
     "output_type": "display_data"
    }
   ],
   "source": [
    "\n",
    "\n",
    "import matplotlib.pyplot as plt\n",
    "plt.figure(figsize=(8,6))\n",
    "plt.hist(phy,bins=300,density=1, alpha=0.7, label='physics',histtype='bar', color='orchid', edgecolor='none')\n",
    "plt.xlim(170000, 650000)\n",
    "plt.ticklabel_format(style='plain')\n",
    "plt.savefig('dis_phy')\n"
   ]
  },
  {
   "cell_type": "code",
   "execution_count": 105,
   "metadata": {},
   "outputs": [
    {
     "data": {
      "image/png": "[encoded data removed]",
      "text/plain": [
       "<Figure size 576x432 with 1 Axes>"
      ]
     },
     "metadata": {
      "needs_background": "light"
     },
     "output_type": "display_data"
    }
   ],
   "source": [
    "\n",
    "\n",
    "import matplotlib.pyplot as plt\n",
    "plt.figure(figsize=(8,6))\n",
    "plt.hist(psy,bins=300,density=True, alpha=0.7, label='psychology',histtype='bar', color='purple', edgecolor='none')\n",
    "plt.xlim(60000, 320000)\n",
    "plt.ticklabel_format(style='plain')\n",
    "plt.savefig('dis_psy')"
   ]
  },
  {
   "cell_type": "code",
   "execution_count": 113,
   "metadata": {},
   "outputs": [
    {
     "data": {
      "image/png": "[encoded data removed]",
      "text/plain": [
       "<Figure size 576x432 with 1 Axes>"
      ]
     },
     "metadata": {
      "needs_background": "light"
     },
     "output_type": "display_data"
    }
   ],
   "source": [
    "\n",
    "import matplotlib.pyplot as plt\n",
    "plt.figure(figsize=(8,6))\n",
    "plt.hist(cc,bins=300,density=True, alpha=0.7, label='news',histtype='bar', color='brown', edgecolor='none')\n",
    "plt.xlim(250000, 630000)\n",
    "plt.ticklabel_format(style='plain')\n",
    "plt.savefig('dis_cc')\n"
   ]
  },
  {
   "cell_type": "markdown",
   "metadata": {},
   "source": [
    "### Similarity graph"
   ]
  },
  {
   "cell_type": "code",
   "execution_count": 5,
   "metadata": {},
   "outputs": [
    {
     "data": {
      "image/png": "[encoded data removed]",
      "text/plain": [
       "<Figure size 1440x720 with 1 Axes>"
      ]
     },
     "metadata": {
      "needs_background": "light"
     },
     "output_type": "display_data"
    }
   ],
   "source": [
    "import numpy as np\n",
    "import matplotlib.pyplot as plt\n",
    "\n",
    "from matplotlib.pyplot import figure\n",
    "\n",
    "\n",
    "a = [0.3951, 0.3899, 0.3392, 0.3992, 0.3438, 0.2882, 0.2932, 0.2659, 0.2992, 0.2598]\n",
    "x = ['Biology','Chemistry', 'CS', 'Physics', 'Engineering', 'Economics', 'Psychology', 'Sociology', 'Philosophy', 'Art']\n",
    "\n",
    "plt.figure(figsize=(20,10))\n",
    "plt.title('The Cosine Similarity between newspaper and scientific papers', fontsize=20)\n",
    "plt.bar(range(len(x)),a,tick_label=x, color=\"gray\",)\n",
    "\n",
    "\n",
    "plt.savefig('cosine_similarity.png')"
   ]
  },
  {
   "cell_type": "code",
   "execution_count": null,
   "metadata": {},
   "outputs": [],
   "source": [
    "a = [0.24074219540212893, 0.2575180974280906, 0.2668384731881055, 0.2749958425719585,0.31510162357275934, 0.22246637317128926]\n"
   ]
  },
  {
   "cell_type": "code",
   "execution_count": null,
   "metadata": {},
   "outputs": [],
   "source": [
    "a.sort()"
   ]
  },
  {
   "cell_type": "code",
   "execution_count": null,
   "metadata": {},
   "outputs": [
    {
     "data": {
      "text/plain": [
       "[0.22246637317128926,\n",
       " 0.24074219540212893,\n",
       " 0.2575180974280906,\n",
       " 0.2668384731881055,\n",
       " 0.2749958425719585,\n",
       " 0.31510162357275934]"
      ]
     },
     "execution_count": 11,
     "metadata": {},
     "output_type": "execute_result"
    }
   ],
   "source": [
    "a"
   ]
  },
  {
   "cell_type": "code",
   "execution_count": null,
   "metadata": {},
   "outputs": [],
   "source": []
  }
 ],
 "metadata": {
  "kernelspec": {
   "display_name": "Python 3.7.4 ('base')",
   "language": "python",
   "name": "python3"
  },
  "language_info": {
   "codemirror_mode": {
    "name": "ipython",
    "version": 3
   },
   "file_extension": ".py",
   "mimetype": "text/x-python",
   "name": "python",
   "nbconvert_exporter": "python",
   "pygments_lexer": "ipython3",
   "version": "3.7.4"
  },
  "vscode": {
   "interpreter": {
    "hash": "40d3a090f54c6569ab1632332b64b2c03c39dcf918b08424e98f38b5ae0af88f"
   }
  }
 },
 "nbformat": 4,
 "nbformat_minor": 2
}
